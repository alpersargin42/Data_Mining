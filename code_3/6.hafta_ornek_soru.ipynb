{
 "cells": [
  {
   "cell_type": "code",
   "execution_count": null,
   "id": "9cc51e44",
   "metadata": {},
   "outputs": [],
   "source": [
    "import matplotlib.pyplot as plt\n",
    "import pandas as pd\n",
    "\n",
    "data=pd.read_csv(\"Mall_Customers.csv\")\n",
    "\n",
    "veri_seti = data.Gender\n",
    "\n",
    "kiz_sayisi = 0\n",
    "erkek_sayisi = 0\n",
    "for cinsiyet in veri_seti:\n",
    "    if cinsiyet == \"Female\":\n",
    "        kiz_sayisi += 1\n",
    "    elif cinsiyet==\"Male\":\n",
    "        erkek_sayisi += 1\n",
    "\n",
    "cinsiyetler = ['Erkek', 'Kız']\n",
    "sayilar = [erkek_sayisi, kiz_sayisi]\n",
    "\n",
    "plt.bar(cinsiyetler, sayilar, color=['blue', 'pink'])\n",
    "plt.title('Kız ve Erkek Sayısı Histogramı')\n",
    "plt.xlabel('Cinsiyet')\n",
    "plt.ylabel('Kişi Sayısı')\n",
    "\n",
    "# Grafiği göster\n",
    "plt.show()"
   ]
  }
 ],
 "metadata": {
  "kernelspec": {
   "display_name": "Python 3 (ipykernel)",
   "language": "python",
   "name": "python3"
  },
  "language_info": {
   "codemirror_mode": {
    "name": "ipython",
    "version": 3
   },
   "file_extension": ".py",
   "mimetype": "text/x-python",
   "name": "python",
   "nbconvert_exporter": "python",
   "pygments_lexer": "ipython3",
   "version": "3.11.4"
  },
  "varInspector": {
   "cols": {
    "lenName": 16,
    "lenType": 16,
    "lenVar": 40
   },
   "kernels_config": {
    "python": {
     "delete_cmd_postfix": "",
     "delete_cmd_prefix": "del ",
     "library": "var_list.py",
     "varRefreshCmd": "print(var_dic_list())"
    },
    "r": {
     "delete_cmd_postfix": ") ",
     "delete_cmd_prefix": "rm(",
     "library": "var_list.r",
     "varRefreshCmd": "cat(var_dic_list()) "
    }
   },
   "types_to_exclude": [
    "module",
    "function",
    "builtin_function_or_method",
    "instance",
    "_Feature"
   ],
   "window_display": false
  }
 },
 "nbformat": 4,
 "nbformat_minor": 5
}
